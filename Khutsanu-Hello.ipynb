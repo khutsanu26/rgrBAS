{
 "cells": [
  {
   "cell_type": "code",
   "execution_count": 1,
   "id": "a2ca96d0-f763-4bee-be0b-64f8d555a4ff",
   "metadata": {},
   "outputs": [],
   "source": [
    "#Первая программа на суперкомпьютере"
   ]
  },
  {
   "cell_type": "code",
   "execution_count": 2,
   "id": "61a0608e-730e-4b06-a2b6-d054853792d7",
   "metadata": {},
   "outputs": [
    {
     "name": "stdout",
     "output_type": "stream",
     "text": [
      "Hello, World!\n",
      "Хуцану Д.В.\n"
     ]
    }
   ],
   "source": [
    "print(\"Hello, World!\")\n",
    "print(\"Хуцану Д.В.\")"
   ]
  },
  {
   "cell_type": "code",
   "execution_count": null,
   "id": "3d8aaed9-708e-4a58-beb8-d46179dbe7bf",
   "metadata": {},
   "outputs": [],
   "source": []
  }
 ],
 "metadata": {
  "kernelspec": {
   "display_name": "Python 3 (ipykernel)",
   "language": "python",
   "name": "python3"
  },
  "language_info": {
   "codemirror_mode": {
    "name": "ipython",
    "version": 3
   },
   "file_extension": ".py",
   "mimetype": "text/x-python",
   "name": "python",
   "nbconvert_exporter": "python",
   "pygments_lexer": "ipython3",
   "version": "3.8.12"
  }
 },
 "nbformat": 4,
 "nbformat_minor": 5
}
