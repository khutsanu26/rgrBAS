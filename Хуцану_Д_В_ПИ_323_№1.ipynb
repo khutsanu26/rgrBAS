{
  "nbformat": 4,
  "nbformat_minor": 0,
  "metadata": {
    "colab": {
      "name": "Хуцану Д.В ПИ-323 №1",
      "provenance": [],
      "toc_visible": true,
      "collapsed_sections": []
    },
    "kernelspec": {
      "name": "python3",
      "display_name": "Python 3"
    },
    "language_info": {
      "name": "python"
    }
  },
  "cells": [
    {
      "cell_type": "markdown",
      "source": [
        "# Греческий алфавит "
      ],
      "metadata": {
        "id": "qO9oEORoae22"
      }
    },
    {
      "cell_type": "markdown",
      "source": [
        "Заглавная|Строчная|Название\n",
        "--|--|--\n",
        "А|$\\alpha$|Альфа\n",
        "B|$\\beta$|Бета\n",
        "Γ|$\\gamma$|Гамма\n",
        "Δ|$\\delta$|Дельта\n",
        "Ε|$\\epsilon$,$\\varepsilon$|Эпсилон\n",
        "Ζ|$\\zeta$|Дзета\n",
        "Η|$\\eta$|Эта\n",
        "ϴ|$\\theta$,$\\vartheta$|Тета\n",
        "Ι|$\\iota$|Йота\n",
        "Κ|$\\kappa$,$\\varkappa$|Каппа\n",
        "Λ|$\\lambda$|Лямбда\n",
        "Μ|$\\mu$|Мю (ми)\n",
        "Ν|$\\nu$|Ню (ни)\n",
        "Ξ|$\\xi$|Кси\n",
        "Ο|$o$|Омикрон\n",
        "Π|$\\pi$,$\\varpi$|Пи\n",
        "Ρ|$\\rho$,$\\varrho$|Ро \n",
        "Σ|$\\sigma$,$\\varsigma$|Сигма\n",
        "Τ|$\\tau$|Тау\n",
        "Υ|$\\upsilon$|Ипсилон\n",
        "Φ|$\\phi$,$\\varphi$|Фи\n",
        "Χ|$\\chi$|Хи\n",
        "Ψ|$\\psi$|Пси\n",
        "Ω|$\\omega$|Омега"
      ],
      "metadata": {
        "id": "w5gkkFsRa8iY"
      }
    },
    {
      "cell_type": "markdown",
      "source": [
        "# 1 \n",
        "## 2\n",
        "### 3"
      ],
      "metadata": {
        "id": "XA2NaPATee9J"
      }
    },
    {
      "cell_type": "markdown",
      "source": [
        "Формула в отдельной строке:\n",
        "$${\\displaystyle f(x)={\\frac {1}{\\sigma {\\sqrt {2\\pi }}}}e^{-{\\frac {1}{2}} \\left({\\frac {x-\\mu }{\\sigma}}\\right)^{2}}}$$\n",
        "\n",
        "Формула в тексте: ${\\displaystyle f(x)={\\frac {1}{\\sigma {\\sqrt {2\\pi }}}}e^{-{\\frac {1}{2}} \\left({\\frac {x-\\mu }{\\sigma}}\\right)^{2}}}$\n"
      ],
      "metadata": {
        "id": "B2PUv3BLe0kw"
      }
    }
  ]
}